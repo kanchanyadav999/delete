{
 "cells": [
  {
   "cell_type": "markdown",
   "id": "da67caaa",
   "metadata": {},
   "source": [
    "# Script 2- Automation using selenium"
   ]
  },
  {
   "cell_type": "code",
   "execution_count": 1,
   "id": "f5861790",
   "metadata": {},
   "outputs": [],
   "source": [
    "# importing essential libraries\n",
    "from selenium import webdriver\n",
    "from selenium.webdriver.common.keys import Keys\n",
    "from selenium.webdriver.common.by import By\n",
    "from selenium.webdriver.support.ui import WebDriverWait\n",
    "from selenium.webdriver.support import expected_conditions as EC\n",
    "from time import sleep\n",
    "import pandas as pd"
   ]
  },
  {
   "cell_type": "code",
   "execution_count": 2,
   "id": "1f61a60f",
   "metadata": {},
   "outputs": [
    {
     "name": "stderr",
     "output_type": "stream",
     "text": [
      "C:\\Users\\admin\\AppData\\Local\\Temp\\ipykernel_14808\\4120023397.py:5: DeprecationWarning: executable_path has been deprecated, please pass in a Service object\n",
      "  driver = webdriver.Edge(edge_driver_path)\n"
     ]
    }
   ],
   "source": [
    "# giving the path for testing our automation\n",
    "edge_driver_path = '/path/to/msedgedriver'\n",
    "\n",
    "# initializing edge webdriver\n",
    "driver = webdriver.Edge(edge_driver_path)"
   ]
  },
  {
   "cell_type": "code",
   "execution_count": 3,
   "id": "62252153",
   "metadata": {},
   "outputs": [],
   "source": [
    "# getting out linkedin url into this automation driver\n",
    "driver.get('https://linkedin.com/login/')"
   ]
  },
  {
   "cell_type": "code",
   "execution_count": 4,
   "id": "b19b7bb6",
   "metadata": {},
   "outputs": [
    {
     "name": "stdout",
     "output_type": "stream",
     "text": [
      "kanchanyadav99902@gmail.com\n"
     ]
    }
   ],
   "source": [
    "# adding email or phone or login\n",
    "username = input(\"\")\n",
    "username_field = WebDriverWait(driver, 10).until(EC.presence_of_element_located((By.ID, 'username')))\n",
    "# the webdriverwait is used to wait for the execution to be done for a certain time here it is waiting for 10 sec before proceeding further.\n",
    "# It is taking two elements first is the driver on which we are searching and second maximum time to wait\n",
    "# 'EC' stands for expected condition\n",
    "# here we are looking for the presence of element id with name as username\n",
    "username_field.send_keys(username)"
   ]
  },
  {
   "cell_type": "code",
   "execution_count": 5,
   "id": "2172204a",
   "metadata": {},
   "outputs": [
    {
     "name": "stdout",
     "output_type": "stream",
     "text": [
      "#1Maibaumere\n"
     ]
    }
   ],
   "source": [
    "# adding password for login\n",
    "password = input(\"\")\n",
    "password_field = WebDriverWait(driver, 10).until(EC.presence_of_element_located((By.ID, 'password')))\n",
    "password_field.send_keys(password)"
   ]
  },
  {
   "cell_type": "code",
   "execution_count": 6,
   "id": "b5f68ebc",
   "metadata": {},
   "outputs": [],
   "source": [
    "# searching for submit button and submitting the email/phone and password\n",
    "login_button = WebDriverWait(driver, 10).until(EC.element_to_be_clickable((By.XPATH, \"//button[@type='submit']\")))\n",
    "# In this expected condition 'element to be clickable' we are looking a button whose type is submit for submiting our details\n",
    "login_button.click()"
   ]
  },
  {
   "cell_type": "code",
   "execution_count": 7,
   "id": "25af5312",
   "metadata": {},
   "outputs": [
    {
     "data": {
      "text/plain": [
       "True"
      ]
     },
     "execution_count": 7,
     "metadata": {},
     "output_type": "execute_result"
    }
   ],
   "source": [
    "# Waiting for the page to load after login\n",
    "WebDriverWait(driver, 10).until(EC.title_contains(\"LinkedIn\"))"
   ]
  },
  {
   "cell_type": "code",
   "execution_count": 104,
   "id": "1a0a1a13",
   "metadata": {},
   "outputs": [],
   "source": [
    "# Finding search to search first name and last name \n",
    "search_element = driver.find_element(By.XPATH, '//*[@id=\"global-nav-search\"]')\n",
    "search_element.click()"
   ]
  },
  {
   "cell_type": "code",
   "execution_count": 105,
   "id": "6256fe4b",
   "metadata": {},
   "outputs": [],
   "source": [
    "# sleep is used to add delay between the two executions\n",
    "sleep(5)\n",
    "searchbox = WebDriverWait(driver, 22).until(EC.element_to_be_clickable((By.XPATH, \"//input[@placeholder='Search']\")))\n",
    "searchbox.clear()"
   ]
  },
  {
   "cell_type": "code",
   "execution_count": 106,
   "id": "b3646551",
   "metadata": {},
   "outputs": [
    {
     "name": "stdout",
     "output_type": "stream",
     "text": [
      "kanchan\n",
      "yadav\n"
     ]
    }
   ],
   "source": [
    "first_name= input(\"\")\n",
    "last_name= input(\"\")\n",
    "value= first_name + \" \" + last_name\n",
    "# giving value as our text in the search box\n",
    "searchbox.send_keys(value)\n",
    "sleep(10)\n",
    "searchbox.send_keys(Keys.ENTER)\n",
    "sleep(5)\n",
    "# searchbox.send_keys(Keys.ENTER)\n",
    "# the send_key is used to send our keys "
   ]
  },
  {
   "cell_type": "code",
   "execution_count": 107,
   "id": "59bff552",
   "metadata": {},
   "outputs": [],
   "source": [
    "# in the below we are searching for clickable element which contains a text 'people' to filter all the which that name.\n",
    "people_filter_button = WebDriverWait(driver, 10).until(EC.element_to_be_clickable((By.XPATH, \"//button[text()='People']\")))\n",
    "people_filter_button.click()"
   ]
  },
  {
   "cell_type": "code",
   "execution_count": 114,
   "id": "173f28d8",
   "metadata": {},
   "outputs": [],
   "source": [
    "people_container = WebDriverWait(driver, 10).until(EC.presence_of_element_located((By.CLASS_NAME, \"reusable-search__entity-result-list\")))"
   ]
  },
  {
   "cell_type": "code",
   "execution_count": 115,
   "id": "6b581e4b",
   "metadata": {},
   "outputs": [],
   "source": [
    "# Finding all person elements within the container\n",
    "people_elements = people_container.find_elements(By.XPATH, \"./li\")"
   ]
  },
  {
   "cell_type": "code",
   "execution_count": 116,
   "id": "537fb127",
   "metadata": {},
   "outputs": [
    {
     "name": "stdout",
     "output_type": "stream",
     "text": [
      "[<selenium.webdriver.remote.webelement.WebElement (session=\"bb1c2f51539d3df8046ecb1120ed4227\", element=\"130C6E36DCE50EEB7190BEAC16E46F17_element_927\")>, <selenium.webdriver.remote.webelement.WebElement (session=\"bb1c2f51539d3df8046ecb1120ed4227\", element=\"130C6E36DCE50EEB7190BEAC16E46F17_element_928\")>, <selenium.webdriver.remote.webelement.WebElement (session=\"bb1c2f51539d3df8046ecb1120ed4227\", element=\"130C6E36DCE50EEB7190BEAC16E46F17_element_929\")>, <selenium.webdriver.remote.webelement.WebElement (session=\"bb1c2f51539d3df8046ecb1120ed4227\", element=\"130C6E36DCE50EEB7190BEAC16E46F17_element_930\")>, <selenium.webdriver.remote.webelement.WebElement (session=\"bb1c2f51539d3df8046ecb1120ed4227\", element=\"130C6E36DCE50EEB7190BEAC16E46F17_element_931\")>, <selenium.webdriver.remote.webelement.WebElement (session=\"bb1c2f51539d3df8046ecb1120ed4227\", element=\"130C6E36DCE50EEB7190BEAC16E46F17_element_932\")>, <selenium.webdriver.remote.webelement.WebElement (session=\"bb1c2f51539d3df8046ecb1120ed4227\", element=\"130C6E36DCE50EEB7190BEAC16E46F17_element_933\")>, <selenium.webdriver.remote.webelement.WebElement (session=\"bb1c2f51539d3df8046ecb1120ed4227\", element=\"130C6E36DCE50EEB7190BEAC16E46F17_element_934\")>, <selenium.webdriver.remote.webelement.WebElement (session=\"bb1c2f51539d3df8046ecb1120ed4227\", element=\"130C6E36DCE50EEB7190BEAC16E46F17_element_935\")>, <selenium.webdriver.remote.webelement.WebElement (session=\"bb1c2f51539d3df8046ecb1120ed4227\", element=\"130C6E36DCE50EEB7190BEAC16E46F17_element_936\")>, <selenium.webdriver.remote.webelement.WebElement (session=\"bb1c2f51539d3df8046ecb1120ed4227\", element=\"130C6E36DCE50EEB7190BEAC16E46F17_element_937\")>]\n"
     ]
    }
   ],
   "source": [
    "print(people_elements)\n",
    "# checking list of people present in the container"
   ]
  },
  {
   "cell_type": "code",
   "execution_count": 117,
   "id": "c1215b60",
   "metadata": {
    "scrolled": true
   },
   "outputs": [
    {
     "name": "stdout",
     "output_type": "stream",
     "text": [
      "Text within ul element: Kanchan Yadav\n",
      "View Kanchan Yadav’s profile\n",
      "• 3rd+\n",
      "3rd+ degree connection\n",
      "Software Engineer at Tata Consultancy Services\n",
      "Lucknow\n",
      "Connect\n",
      "Status is online\n",
      "Kanchan Yadav\n",
      "View Kanchan Yadav’s profile\n",
      "• You\n",
      "Self\n",
      "Data Science intern at Bugendaitech\n",
      "Mumbai\n",
      "Easily find people who are actively hiring\n",
      "Search more efficiently with advanced search filters\n",
      "Try Premium for ₹0\n",
      "1-month free trial. Cancel anytime.\n",
      "KANCHAN YADAV\n",
      "View KANCHAN YADAV’s profile\n",
      "• 2nd\n",
      "2nd degree connection\n",
      "Cyber Security Analyst Intern at Maharashtra Cyber Mumbai\n",
      "Mumbai\n",
      "Saahil Saiyed is a mutual connection\n",
      "Connect\n",
      "Kanchan Yadav\n",
      "Kanchan Yadav\n",
      "View Kanchan Yadav’s profile\n",
      "• 2nd\n",
      "2nd degree connection\n",
      "Salesforce Consultant at Capgemini\n",
      "Pune\n",
      "Rajesh Jadhav is a mutual connection\n",
      "Connect\n",
      "Kanchan Yadav\n",
      "Kanchan Yadav\n",
      "View Kanchan Yadav’s profile\n",
      "• 3rd+\n",
      "3rd+ degree connection\n",
      "KPIT Technologies Limited\n",
      "Mumbai\n",
      "Message\n",
      "Kanchan Yadav\n",
      "View Kanchan Yadav’s profile\n",
      "• 3rd+\n",
      "3rd+ degree connection\n",
      "Project Manager(BA) at Cloud Energy Software\n",
      "Mumbai\n",
      "Message\n",
      "Kanchan Yadav\n",
      "View Kanchan Yadav’s profile\n",
      "• 2nd\n",
      "2nd degree connection\n",
      "Senior Technical Writer at Calypso Technologies\n",
      "Mumbai\n",
      "Connect\n",
      "Kanchan Yadav\n",
      "View Kanchan Yadav’s profile\n",
      "• 3rd+\n",
      "3rd+ degree connection\n",
      "Senior Manager - IT at HDFC Bank\n",
      "Mumbai\n",
      "Message\n",
      "KANCHAN YADAV\n",
      "View KANCHAN YADAV’s profile\n",
      "• 3rd+\n",
      "3rd+ degree connection\n",
      "Senior Associate at Cognizant | Ex - Fidelity International | Ex- TCSer | Kofax Developer|\n",
      "Pune\n",
      "Message\n",
      "Kanchan Yadav\n",
      "View Kanchan Yadav’s profile\n",
      "• 3rd+\n",
      "3rd+ degree connection\n",
      "Brand and P&L management | Customer Relationship Management | Driving Customer Engagement\n",
      "Mumbai\n",
      "Message\n"
     ]
    }
   ],
   "source": [
    "common_class = \"reusable-search__entity-result-list\"\n",
    "# # checking if the common path contain all the text details which we are fetching for \n",
    "ul_element = driver.find_element(By.CLASS_NAME, common_class)\n",
    "# # Getting the text content of the ul element\n",
    "ul_text = ul_element.text\n",
    "print(f\"Text within ul element: {ul_text}\")"
   ]
  },
  {
   "cell_type": "code",
   "execution_count": 118,
   "id": "be317417",
   "metadata": {},
   "outputs": [],
   "source": [
    "dictionary1={}"
   ]
  },
  {
   "cell_type": "code",
   "execution_count": 119,
   "id": "721129a8",
   "metadata": {},
   "outputs": [
    {
     "name": "stdout",
     "output_type": "stream",
     "text": [
      "0 Lucknow\n",
      "1 Mumbai\n",
      "3 Mumbai\n",
      "4 Pune\n",
      "5 Mumbai\n",
      "6 Mumbai\n",
      "7 Mumbai\n",
      "8 Mumbai\n",
      "9 Pune\n",
      "10 Mumbai\n"
     ]
    }
   ],
   "source": [
    "common_class = \"entity-result__secondary-subtitle\"\n",
    "l1=[]\n",
    "## retrieving the location of each person \n",
    "for i in range(len(people_elements)):\n",
    "    # Finding the element using the class name\n",
    "    if i==2:\n",
    "        continue\n",
    "    else:\n",
    "        associated_element = people_elements[i].find_element(By.CLASS_NAME, common_class)\n",
    "\n",
    "    # Extracting the text\n",
    "    secondary_text = associated_element.text.strip()\n",
    "    l1.append(secondary_text)\n",
    "    # Printing the text\n",
    "    print(i,secondary_text)\n",
    "dictionary1['location']=l1\n"
   ]
  },
  {
   "cell_type": "code",
   "execution_count": 120,
   "id": "186bb144",
   "metadata": {},
   "outputs": [
    {
     "name": "stdout",
     "output_type": "stream",
     "text": [
      "0 Software Engineer at Tata Consultancy Services\n",
      "1 Data Science intern at Bugendaitech\n",
      "3 Cyber Security Analyst Intern at Maharashtra Cyber Mumbai\n",
      "4 Salesforce Consultant at Capgemini\n",
      "5 KPIT Technologies Limited\n",
      "6 Project Manager(BA) at Cloud Energy Software\n",
      "7 Senior Technical Writer at Calypso Technologies\n",
      "8 Senior Manager - IT at HDFC Bank\n",
      "9 Senior Associate at Cognizant | Ex - Fidelity International | Ex- TCSer | Kofax Developer|\n",
      "10 Brand and P&L management | Customer Relationship Management | Driving Customer Engagement\n"
     ]
    }
   ],
   "source": [
    "l2=[]\n",
    "common_class = \"entity-result__primary-subtitle\"\n",
    "\n",
    "## retrieving the designation of each person \n",
    "for i in range(len(people_elements)):\n",
    "    if i==2:\n",
    "        continue\n",
    "    else:\n",
    "        # Finding the element using the XPath\n",
    "        associated_element = people_elements[i].find_element(By.CLASS_NAME, common_class)\n",
    "        \n",
    "    # Extracting the text\n",
    "    text = associated_element.text.strip()\n",
    "    l2.append(text)\n",
    "    # Printing the text\n",
    "    print(i,text)\n",
    "dictionary1['designation']= l2"
   ]
  },
  {
   "cell_type": "code",
   "execution_count": 121,
   "id": "6cee98e3",
   "metadata": {},
   "outputs": [
    {
     "name": "stdout",
     "output_type": "stream",
     "text": [
      "0 Kanchan Yadav\n",
      "1 Kanchan Yadav\n",
      "3 KANCHAN YADAV\n",
      "4 Kanchan Yadav\n",
      "5 Kanchan Yadav\n",
      "6 Kanchan Yadav\n",
      "7 Kanchan Yadav\n",
      "8 Kanchan Yadav\n",
      "9 KANCHAN YADAV\n",
      "10 Kanchan Yadav\n"
     ]
    }
   ],
   "source": [
    "common_class = \"app-aware-link\"\n",
    "attribute_value = \"ltr\"\n",
    "\n",
    "## retrieving the name of each person \n",
    "for i in range(len(people_elements)):\n",
    "    if i==2:\n",
    "        continue\n",
    "    else:\n",
    "        # Finding the element using the XPath\n",
    "        associated_element = people_elements[i].find_element(By.CSS_SELECTOR, f\".{common_class} [aria-hidden='true']\")\n",
    "\n",
    "        # Extracting the text\n",
    "        name = associated_element.text.strip()\n",
    "        l3.append(name)\n",
    "        # Printing or process the text\n",
    "        print(i,name)\n",
    "dictionary1['name']= l3"
   ]
  },
  {
   "cell_type": "code",
   "execution_count": 122,
   "id": "4e922369",
   "metadata": {
    "scrolled": true
   },
   "outputs": [
    {
     "name": "stdout",
     "output_type": "stream",
     "text": [
      "0 https://www.linkedin.com/in/kanchan-yadav-2043532b3?miniProfileUrn=urn%3Ali%3Afs_miniProfile%3AACoAAEtV_mQBdXj6q-BNaTnTwITWuwn_i-nqf64\n",
      "1 https://www.linkedin.com/in/kyadav2224?miniProfileUrn=urn%3Ali%3Afs_miniProfile%3AACoAADV1PooBLEdJ24X6jjxm448TxK7Q7xQMV7M\n",
      "2 https://www.linkedin.com/premium/products/?upsellOrderOrigin=premium_advanced_people_search_filter_inline_result_jobseeker_upsell&utype=job_marketing&referenceId=geZePrE3Qie5wSJrRCrzYw%3D%3D&destRedirectURL=https%3A%2F%2Fwww.linkedin.com%2Fsearch%2Fresults%2Fpeople%2F%3Fkeywords%3Dkanchan%2520yadav%26origin%3DSWITCH_SEARCH_VERTICAL%26sid%3DX_e\n",
      "4 https://www.linkedin.com/in/kanchan-yadav-a9626825b?miniProfileUrn=urn%3Ali%3Afs_miniProfile%3AACoAAD_uqhIBJhj4CKLMv9cxyQ46L2lepBg3UNI\n",
      "5 https://www.linkedin.com/in/kanchan-yadav-173608223?miniProfileUrn=urn%3Ali%3Afs_miniProfile%3AACoAADgnLucB_wuxGCJbzRl5LBNjWWWssl8bGKE\n",
      "6 https://www.linkedin.com/in/kanchan-yadav-614436a9?miniProfileUrn=urn%3Ali%3Afs_miniProfile%3AACoAABcF3vABJ5_wxB0J5tIw5qRD9pSjEtMw7YI\n",
      "7 https://www.linkedin.com/in/kanchan-yadav-7a625383?miniProfileUrn=urn%3Ali%3Afs_miniProfile%3AACoAABGn9a4BxUHH0zdqtOS14q4NqzJJE7JN_Vs\n",
      "8 https://www.linkedin.com/in/kanchan-yadav-2865b749?miniProfileUrn=urn%3Ali%3Afs_miniProfile%3AACoAAAo7t8YBtVnMferA_5Cm_7lTJgfs6IZ8TEI\n",
      "9 https://www.linkedin.com/in/kanchan-yadav-17b5b6a2?miniProfileUrn=urn%3Ali%3Afs_miniProfile%3AACoAABXNQG8Bw4yuRXgPzzClDC7IWMDi-NA675U\n",
      "10 https://www.linkedin.com/in/kanchan-yadav-99683419?miniProfileUrn=urn%3Ali%3Afs_miniProfile%3AACoAAAPcQ4IB8goZxv5l5xwHLXt4yGA28FWYuss\n"
     ]
    }
   ],
   "source": [
    "kanu=[]\n",
    "for i in range(len(people_elements)):\n",
    "    if i==3:\n",
    "        continue\n",
    "    else:\n",
    "    # Get the link\n",
    "        dictionary1[\"Link\"] = people_elements[i].find_element(By.XPATH, f\".//a[contains(@class, 'app-aware-link')]\").get_attribute(\"href\")\n",
    "    print(i,dictionary1['Link'])"
   ]
  },
  {
   "cell_type": "code",
   "execution_count": 125,
   "id": "0d935b52",
   "metadata": {},
   "outputs": [],
   "source": [
    "dictionary1"
   ]
  },
  {
   "cell_type": "code",
   "execution_count": 126,
   "id": "86d73992",
   "metadata": {},
   "outputs": [],
   "source": [
    "import pandas as pd\n",
    "kan= pd.DataFrame(dictionary)\n",
    "kan= kan.to_csv('Easer_assignment_done_kk_copy.csv', index=False)"
   ]
  },
  {
   "cell_type": "code",
   "execution_count": null,
   "id": "dd7b7c4e",
   "metadata": {},
   "outputs": [],
   "source": [
    "kan= pd.read_csv('Easer_assignment_done_kk_copy.csv')"
   ]
  },
  {
   "cell_type": "code",
   "execution_count": 67,
   "id": "c9efc54c",
   "metadata": {},
   "outputs": [
    {
     "data": {
      "text/html": [
       "<div>\n",
       "<style scoped>\n",
       "    .dataframe tbody tr th:only-of-type {\n",
       "        vertical-align: middle;\n",
       "    }\n",
       "\n",
       "    .dataframe tbody tr th {\n",
       "        vertical-align: top;\n",
       "    }\n",
       "\n",
       "    .dataframe thead th {\n",
       "        text-align: right;\n",
       "    }\n",
       "</style>\n",
       "<table border=\"1\" class=\"dataframe\">\n",
       "  <thead>\n",
       "    <tr style=\"text-align: right;\">\n",
       "      <th></th>\n",
       "      <th>location</th>\n",
       "      <th>designation</th>\n",
       "      <th>name</th>\n",
       "      <th>Link</th>\n",
       "    </tr>\n",
       "  </thead>\n",
       "  <tbody>\n",
       "    <tr>\n",
       "      <th>0</th>\n",
       "      <td>Prayagraj</td>\n",
       "      <td>Data Scientist | Machine Learning | Deep Learn...</td>\n",
       "      <td>Shiv Nandan Gupta</td>\n",
       "      <td>https://www.linkedin.com/in/shivvguptaa?miniPr...</td>\n",
       "    </tr>\n",
       "    <tr>\n",
       "      <th>1</th>\n",
       "      <td>Mumbai</td>\n",
       "      <td>Manager Finance Account</td>\n",
       "      <td>SHIV GUPTA</td>\n",
       "      <td>https://www.linkedin.com/in/shivvguptaa?miniPr...</td>\n",
       "    </tr>\n",
       "    <tr>\n",
       "      <th>2</th>\n",
       "      <td>Mumbai</td>\n",
       "      <td>Founder at Crypto Conversation . Bitcoin - An ...</td>\n",
       "      <td>Shiv Gupta</td>\n",
       "      <td>https://www.linkedin.com/in/shivvguptaa?miniPr...</td>\n",
       "    </tr>\n",
       "    <tr>\n",
       "      <th>3</th>\n",
       "      <td>Mumbai</td>\n",
       "      <td>Founder and CEO at Sanctum Wealth</td>\n",
       "      <td>Shiv Gupta</td>\n",
       "      <td>https://www.linkedin.com/in/shivvguptaa?miniPr...</td>\n",
       "    </tr>\n",
       "    <tr>\n",
       "      <th>4</th>\n",
       "      <td>New Delhi</td>\n",
       "      <td>Chief Technology Officer</td>\n",
       "      <td>Shiv Gupta</td>\n",
       "      <td>https://www.linkedin.com/in/shivvguptaa?miniPr...</td>\n",
       "    </tr>\n",
       "    <tr>\n",
       "      <th>5</th>\n",
       "      <td>Mumbai</td>\n",
       "      <td>RH-West Region Project Implementation</td>\n",
       "      <td>Shiv Gupta</td>\n",
       "      <td>https://www.linkedin.com/in/shivvguptaa?miniPr...</td>\n",
       "    </tr>\n",
       "    <tr>\n",
       "      <th>6</th>\n",
       "      <td>Thane</td>\n",
       "      <td>Senior Specialist Professional Services at FIS</td>\n",
       "      <td>Shiv Gupta</td>\n",
       "      <td>https://www.linkedin.com/in/shivvguptaa?miniPr...</td>\n",
       "    </tr>\n",
       "    <tr>\n",
       "      <th>7</th>\n",
       "      <td>Delhi, India</td>\n",
       "      <td>IT Administrator</td>\n",
       "      <td>Shiv Gupta</td>\n",
       "      <td>https://www.linkedin.com/in/shivvguptaa?miniPr...</td>\n",
       "    </tr>\n",
       "    <tr>\n",
       "      <th>8</th>\n",
       "      <td>New Delhi</td>\n",
       "      <td>Senior Finance Leader I Strategic Business Par...</td>\n",
       "      <td>Shiv Gupta</td>\n",
       "      <td>https://www.linkedin.com/in/shivvguptaa?miniPr...</td>\n",
       "    </tr>\n",
       "    <tr>\n",
       "      <th>9</th>\n",
       "      <td>New Delhi</td>\n",
       "      <td>Student CSE</td>\n",
       "      <td>Shiv Gupta</td>\n",
       "      <td>https://www.linkedin.com/in/shivvguptaa?miniPr...</td>\n",
       "    </tr>\n",
       "  </tbody>\n",
       "</table>\n",
       "</div>"
      ],
      "text/plain": [
       "       location                                        designation  \\\n",
       "0     Prayagraj  Data Scientist | Machine Learning | Deep Learn...   \n",
       "1        Mumbai                            Manager Finance Account   \n",
       "2        Mumbai  Founder at Crypto Conversation . Bitcoin - An ...   \n",
       "3        Mumbai                  Founder and CEO at Sanctum Wealth   \n",
       "4     New Delhi                           Chief Technology Officer   \n",
       "5        Mumbai              RH-West Region Project Implementation   \n",
       "6         Thane     Senior Specialist Professional Services at FIS   \n",
       "7  Delhi, India                                   IT Administrator   \n",
       "8     New Delhi  Senior Finance Leader I Strategic Business Par...   \n",
       "9     New Delhi                                        Student CSE   \n",
       "\n",
       "                name                                               Link  \n",
       "0  Shiv Nandan Gupta  https://www.linkedin.com/in/shivvguptaa?miniPr...  \n",
       "1         SHIV GUPTA  https://www.linkedin.com/in/shivvguptaa?miniPr...  \n",
       "2         Shiv Gupta  https://www.linkedin.com/in/shivvguptaa?miniPr...  \n",
       "3         Shiv Gupta  https://www.linkedin.com/in/shivvguptaa?miniPr...  \n",
       "4         Shiv Gupta  https://www.linkedin.com/in/shivvguptaa?miniPr...  \n",
       "5         Shiv Gupta  https://www.linkedin.com/in/shivvguptaa?miniPr...  \n",
       "6         Shiv Gupta  https://www.linkedin.com/in/shivvguptaa?miniPr...  \n",
       "7         Shiv Gupta  https://www.linkedin.com/in/shivvguptaa?miniPr...  \n",
       "8         Shiv Gupta  https://www.linkedin.com/in/shivvguptaa?miniPr...  \n",
       "9         Shiv Gupta  https://www.linkedin.com/in/shivvguptaa?miniPr...  "
      ]
     },
     "execution_count": 67,
     "metadata": {},
     "output_type": "execute_result"
    }
   ],
   "source": [
    "kan"
   ]
  },
  {
   "cell_type": "code",
   "execution_count": null,
   "id": "7b77fd5e",
   "metadata": {},
   "outputs": [],
   "source": []
  },
  {
   "cell_type": "code",
   "execution_count": null,
   "id": "384b240c",
   "metadata": {},
   "outputs": [],
   "source": []
  }
 ],
 "metadata": {
  "kernelspec": {
   "display_name": "Python 3 (ipykernel)",
   "language": "python",
   "name": "python3"
  },
  "language_info": {
   "codemirror_mode": {
    "name": "ipython",
    "version": 3
   },
   "file_extension": ".py",
   "mimetype": "text/x-python",
   "name": "python",
   "nbconvert_exporter": "python",
   "pygments_lexer": "ipython3",
   "version": "3.10.7"
  }
 },
 "nbformat": 4,
 "nbformat_minor": 5
}
